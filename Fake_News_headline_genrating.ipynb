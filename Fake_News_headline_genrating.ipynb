{
  "nbformat": 4,
  "nbformat_minor": 0,
  "metadata": {
    "colab": {
      "provenance": [],
      "authorship_tag": "ABX9TyOHiSb5narndIYb5+UjrrtA",
      "include_colab_link": true
    },
    "kernelspec": {
      "name": "python3",
      "display_name": "Python 3"
    },
    "language_info": {
      "name": "python"
    }
  },
  "cells": [
    {
      "cell_type": "markdown",
      "metadata": {
        "id": "view-in-github",
        "colab_type": "text"
      },
      "source": [
        "<a href=\"https://colab.research.google.com/github/Seema246/supermarket-Sales/blob/main/Fake_News_headline_genrating.ipynb\" target=\"_parent\"><img src=\"https://colab.research.google.com/assets/colab-badge.svg\" alt=\"Open In Colab\"/></a>"
      ]
    },
    {
      "cell_type": "code",
      "execution_count": 17,
      "metadata": {
        "id": "yIRBN1X0PtqV",
        "colab": {
          "base_uri": "https://localhost:8080/"
        },
        "outputId": "ce6dde4c-e511-4ac7-84a7-c1737c321a83"
      },
      "outputs": [
        {
          "name": "stdout",
          "output_type": "stream",
          "text": [
            "\n",
            "Breaking news: Harry Potter hack the mainframe at the red fort\n",
            "\n",
            " do you another headline? (yes/no)yes\n",
            "\n",
            "Breaking news: Darth Vader Tweets about at india gate\n",
            "\n",
            " do you another headline? (yes/no)yes\n",
            "\n",
            "Breaking news: Elephant Meditation on in the parliament\n",
            "\n",
            " do you another headline? (yes/no)no\n"
          ]
        }
      ],
      "source": [
        "import random\n",
        "subject = [\"Eiffel Tower\", \"Great wall of Chaina\", \"Elephant\", \"Talking Parrot\", \"Harry Potter\", \"Darth Vader\",\n",
        "           \"A rusty spoon\",\"Democracy\", \"gRAVITY\"]\n",
        "\n",
        "actions = [\"Meditation on\", \"Bake a cake for\", \"Discover a new Planet\", \"hack the mainframe\", \"Tweets about\",\n",
        "           \"Migration\", \"causes an eatherquake\"]\n",
        "places_or_things = [\"in the parliament\", \"Mumbai local train\",\"at the red fort\", \"At ganga ghate\", \"at the studium\", \"jungle\", \"Sweets\",\n",
        "\"at india gate\"]\n",
        "while True :\n",
        "    random_subject = random.choice(subject)\n",
        "    random_actions = random.choice(actions)\n",
        "    random_places_or_things = random.choice(places_or_things)\n",
        "\n",
        "    headline = f\"Breaking news: {random_subject} {random_actions} {random_places_or_things}\"\n",
        "    print(\"\\n\" + headline)\n",
        "    user_input = input(\"\\n do you another headline? (yes/no)\").strip()\n",
        "    if user_input == \"no\":\n",
        "      break"
      ]
    }
  ]
}