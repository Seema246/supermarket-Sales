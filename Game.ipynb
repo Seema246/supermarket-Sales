{
  "cells": [
    {
      "cell_type": "markdown",
      "metadata": {
        "id": "view-in-github",
        "colab_type": "text"
      },
      "source": [
        "<a href=\"https://colab.research.google.com/github/Seema246/supermarket-Sales/blob/main/Game.ipynb\" target=\"_parent\"><img src=\"https://colab.research.google.com/assets/colab-badge.svg\" alt=\"Open In Colab\"/></a>"
      ]
    },
    {
      "cell_type": "code",
      "execution_count": null,
      "metadata": {
        "colab": {
          "background_save": true,
          "base_uri": "https://localhost:8080/"
        },
        "id": "J2da_GRymsRP",
        "outputId": "545d3d9d-4527-4144-e297-b97348393c88"
      },
      "outputs": [
        {
          "name": "stdout",
          "output_type": "stream",
          "text": [
            "User choice = Rock, Computer choice = Paper\n",
            "Paper covers Rock = Computer Win\n",
            "Scores: You - 0, Computer - 1, Ties - 0\n",
            "User choice = , Computer choice = Scissor\n",
            "Invalid input. Please enter Rock, Paper, or Scissor.\n",
            "Scores: You - 0, Computer - 1, Ties - 0\n",
            "User choice = Paper, Computer choice = Rock\n",
            "Paper covers rock, You win\n",
            "Scores: You - 1, Computer - 1, Ties - 0\n",
            "User choice = Scissor, Computer choice = Scissor\n",
            "Both chooses same: = Match Tie\n",
            "Scores: You - 1, Computer - 1, Ties - 1\n",
            "User choice = Rock, Computer choice = Scissor\n",
            "Rock smashes Scissor = You win\n",
            "Scores: You - 2, Computer - 1, Ties - 1\n",
            "User choice = Scissor, Computer choice = Rock\n",
            "Rock smashes scissor, Computer win\n",
            "Scores: You - 2, Computer - 2, Ties - 1\n"
          ]
        }
      ],
      "source": [
        "\"\"\"\n",
        "A- Rock\n",
        "Rock - Rock = tie\n",
        "Rock - Paper = Paper win\n",
        "Rock - scissor = Rock win\n",
        "\n",
        "B- Paper\n",
        "Paper - Paper = tie\n",
        "Paper - Rock = Paper win\n",
        "Paper - Scissor = Scissor win\n",
        "\n",
        "C- Scissor\n",
        "Scissor - Scissor = tie\n",
        "Scissor - Rock = Rock win\n",
        "Scissor - Paper = Scissor win\n",
        "\"\"\"\n",
        "\n",
        "import random\n",
        "item_list = [\"Rock\", \"Paper\", \"Scissor\"]\n",
        "\n",
        "# Initialize scores\n",
        "user_score = 0\n",
        "comp_score = 0\n",
        "ties = 0\n",
        "\n",
        "# Get winning score from user\n",
        "try:\n",
        "    winning_score = int(input(\"Enter the winning score: \"))\n",
        "except ValueError:\n",
        "    print(\"Invalid input. Winning score set to 3 by default.\")\n",
        "    winning_score = 3\n",
        "\n",
        "while user_score < winning_score and comp_score < winning_score:\n",
        "    user_choice = input(\"Enter your move = Rock, Paper, Scissor= \")\n",
        "    comp_choice = random.choice(item_list)\n",
        "\n",
        "    print(f\"User choice = {user_choice}, Computer choice = {comp_choice}\")\n",
        "\n",
        "    if user_choice == comp_choice:\n",
        "        print(\"Both chooses same: = Match Tie\")\n",
        "        ties += 1\n",
        "    elif user_choice == \"Rock\":\n",
        "        if comp_choice == \"Paper\":\n",
        "            print(\"Paper covers Rock = Computer Win\")\n",
        "            comp_score += 1\n",
        "        else:\n",
        "            print(\"Rock smashes Scissor = You win\")\n",
        "            user_score += 1\n",
        "    elif user_choice == \"Paper\":\n",
        "        if comp_choice == \"Scissor\":\n",
        "            print(\"Scissor cuts paper, Computer Win\")\n",
        "            comp_score += 1\n",
        "        else:\n",
        "            print(\"Paper covers rock, You win\")\n",
        "            user_score += 1\n",
        "    elif user_choice == \"Scissor\":\n",
        "        if comp_choice == \"Paper\":\n",
        "            print(\"Scissor cuts paper, You win\")\n",
        "            user_score += 1\n",
        "        else:\n",
        "            print(\"Rock smashes scissor, Computer win\")\n",
        "            comp_score += 1\n",
        "    else:\n",
        "        print(\"Invalid input. Please enter Rock, Paper, or Scissor.\")\n",
        "\n",
        "    # Display scores\n",
        "    print(f\"Scores: You - {user_score}, Computer - {comp_score}, Ties - {ties}\")\n",
        "\n",
        "# Determine the winner\n",
        "if user_score == winning_score:\n",
        "    print(\"Congratulations! You won the game!\")\n",
        "elif comp_score == winning_score:\n",
        "    print(\"The computer won the game.\")\n",
        "else:\n",
        "    print(\"The game ended in a tie.\") # This case should not happen with the current loop condition\n",
        "\n",
        "print(\"Thanks for playing!\")\n",
        "\n",
        "\n",
        "\n"
      ]
    }
  ],
  "metadata": {
    "colab": {
      "provenance": [],
      "authorship_tag": "ABX9TyN85zh3zR1wkQddcmFDzlkB",
      "include_colab_link": true
    },
    "kernelspec": {
      "display_name": "Python 3",
      "name": "python3"
    },
    "language_info": {
      "name": "python"
    }
  },
  "nbformat": 4,
  "nbformat_minor": 0
}